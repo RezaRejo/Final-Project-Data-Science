{
  "nbformat": 4,
  "nbformat_minor": 0,
  "metadata": {
    "colab": {
      "provenance": [],
      "toc_visible": true,
      "authorship_tag": "ABX9TyMckkkZVKMI5ZVqD+sTPbG/",
      "include_colab_link": true
    },
    "kernelspec": {
      "name": "python3",
      "display_name": "Python 3"
    },
    "language_info": {
      "name": "python"
    }
  },
  "cells": [
    {
      "cell_type": "markdown",
      "metadata": {
        "id": "view-in-github",
        "colab_type": "text"
      },
      "source": [
        "<a href=\"https://colab.research.google.com/github/RezaRejo/Final-Project-Data-Science/blob/main/Feature_Engineering_Modeling_Machine_Learning_%2B_Evaluation.ipynb\" target=\"_parent\"><img src=\"https://colab.research.google.com/assets/colab-badge.svg\" alt=\"Open In Colab\"/></a>"
      ]
    },
    {
      "cell_type": "markdown",
      "source": [
        "#Data Preparation"
      ],
      "metadata": {
        "id": "JpJrbK9ORqiP"
      }
    },
    {
      "cell_type": "code",
      "execution_count": null,
      "metadata": {
        "id": "zCpbHQkPRiE1"
      },
      "outputs": [],
      "source": [
        "import pandas as pd\n",
        "import numpy as np\n",
        "from sklearn.model_selection import train_test_split\n",
        "from sklearn.preprocessing import StandardScaler\n",
        "from sklearn.pipeline import Pipeline\n",
        "from sklearn.metrics import accuracy_score, classification_report, roc_auc_score, confusion_matrix\n",
        "from sklearn.linear_model import LogisticRegression\n",
        "from sklearn.ensemble import RandomForestClassifier\n",
        "import seaborn as sns\n",
        "import matplotlib.pyplot as plt"
      ]
    },
    {
      "cell_type": "markdown",
      "source": [
        "##Access to Drive"
      ],
      "metadata": {
        "id": "vRfP3EVZRurY"
      }
    },
    {
      "cell_type": "code",
      "source": [
        "from google.colab import drive\n",
        "drive.mount('/content/drive')"
      ],
      "metadata": {
        "id": "rEGvkKH0RxcA",
        "colab": {
          "base_uri": "https://localhost:8080/"
        },
        "outputId": "fd544732-4094-4794-807d-a8c0b3422f7b"
      },
      "execution_count": null,
      "outputs": [
        {
          "output_type": "stream",
          "name": "stdout",
          "text": [
            "Mounted at /content/drive\n"
          ]
        }
      ]
    },
    {
      "cell_type": "markdown",
      "source": [
        "##Read Data"
      ],
      "metadata": {
        "id": "3aHVHrNzRxyI"
      }
    },
    {
      "cell_type": "code",
      "source": [
        "file_path = '/content/drive/MyDrive/Dibimbing DS33B+/FINAL PROJECT DS DA/PROJECT/Final Project Data Science/gym_membership_final.csv'\n",
        "df = pd.read_csv(file_path)\n",
        "df.head()"
      ],
      "metadata": {
        "id": "mKeBVSj5R3dL",
        "colab": {
          "base_uri": "https://localhost:8080/",
          "height": 342
        },
        "outputId": "a659374b-f37c-43af-d28d-1b66451b8b8a"
      },
      "execution_count": null,
      "outputs": [
        {
          "output_type": "execute_result",
          "data": {
            "text/plain": [
              "   id  gender    birthday  age abonoment_type  visit_per_week  \\\n",
              "0   1  Female  1997-04-18   27        Premium               4   \n",
              "1   2  Female  1977-09-18   47       Standard               3   \n",
              "2   3    Male  1983-03-30   41        Premium               1   \n",
              "3   4    Male  1980-04-12   44        Premium               3   \n",
              "4   5    Male  1980-09-10   44       Standard               2   \n",
              "\n",
              "        days_per_week  attend_group_lesson avg_time_check_in  \\\n",
              "0  Mon, Sat, Tue, Wed                 True          19:31:00   \n",
              "1       Mon, Sat, Wed                False          19:31:00   \n",
              "2                 Sat                 True          08:29:00   \n",
              "3       Sat, Tue, Wed                False          09:54:00   \n",
              "4            Thu, Wed                 True          08:29:00   \n",
              "\n",
              "  avg_time_check_out  ...  uses_sauna  last_visit_date  recency  \\\n",
              "0           21:27:00  ...        True       2025-05-02       51   \n",
              "1           20:19:00  ...       False       2025-06-08       14   \n",
              "2           10:32:00  ...       False       2025-04-12       71   \n",
              "3           11:33:00  ...        True       2025-04-23       60   \n",
              "4           09:19:00  ...       False       2025-06-02       20   \n",
              "\n",
              "   abonoment_value personal_training_val  drink_abo_val  sauna_val  monetary  \\\n",
              "0                2                     0              0          1       250   \n",
              "1                1                     1              0          0       180   \n",
              "2                2                     1              1          0       280   \n",
              "3                2                     1              1          1       310   \n",
              "4                1                     1              0          0       170   \n",
              "\n",
              "   age_category  number_of_members  \n",
              "0   Young Adult                493  \n",
              "1        Mature                507  \n",
              "2        Mature                493  \n",
              "3        Mature                493  \n",
              "4        Mature                507  \n",
              "\n",
              "[5 rows x 23 columns]"
            ],
            "text/html": [
              "\n",
              "  <div id=\"df-fce47c28-18da-4cbc-8845-92af1d848942\" class=\"colab-df-container\">\n",
              "    <div>\n",
              "<style scoped>\n",
              "    .dataframe tbody tr th:only-of-type {\n",
              "        vertical-align: middle;\n",
              "    }\n",
              "\n",
              "    .dataframe tbody tr th {\n",
              "        vertical-align: top;\n",
              "    }\n",
              "\n",
              "    .dataframe thead th {\n",
              "        text-align: right;\n",
              "    }\n",
              "</style>\n",
              "<table border=\"1\" class=\"dataframe\">\n",
              "  <thead>\n",
              "    <tr style=\"text-align: right;\">\n",
              "      <th></th>\n",
              "      <th>id</th>\n",
              "      <th>gender</th>\n",
              "      <th>birthday</th>\n",
              "      <th>age</th>\n",
              "      <th>abonoment_type</th>\n",
              "      <th>visit_per_week</th>\n",
              "      <th>days_per_week</th>\n",
              "      <th>attend_group_lesson</th>\n",
              "      <th>avg_time_check_in</th>\n",
              "      <th>avg_time_check_out</th>\n",
              "      <th>...</th>\n",
              "      <th>uses_sauna</th>\n",
              "      <th>last_visit_date</th>\n",
              "      <th>recency</th>\n",
              "      <th>abonoment_value</th>\n",
              "      <th>personal_training_val</th>\n",
              "      <th>drink_abo_val</th>\n",
              "      <th>sauna_val</th>\n",
              "      <th>monetary</th>\n",
              "      <th>age_category</th>\n",
              "      <th>number_of_members</th>\n",
              "    </tr>\n",
              "  </thead>\n",
              "  <tbody>\n",
              "    <tr>\n",
              "      <th>0</th>\n",
              "      <td>1</td>\n",
              "      <td>Female</td>\n",
              "      <td>1997-04-18</td>\n",
              "      <td>27</td>\n",
              "      <td>Premium</td>\n",
              "      <td>4</td>\n",
              "      <td>Mon, Sat, Tue, Wed</td>\n",
              "      <td>True</td>\n",
              "      <td>19:31:00</td>\n",
              "      <td>21:27:00</td>\n",
              "      <td>...</td>\n",
              "      <td>True</td>\n",
              "      <td>2025-05-02</td>\n",
              "      <td>51</td>\n",
              "      <td>2</td>\n",
              "      <td>0</td>\n",
              "      <td>0</td>\n",
              "      <td>1</td>\n",
              "      <td>250</td>\n",
              "      <td>Young Adult</td>\n",
              "      <td>493</td>\n",
              "    </tr>\n",
              "    <tr>\n",
              "      <th>1</th>\n",
              "      <td>2</td>\n",
              "      <td>Female</td>\n",
              "      <td>1977-09-18</td>\n",
              "      <td>47</td>\n",
              "      <td>Standard</td>\n",
              "      <td>3</td>\n",
              "      <td>Mon, Sat, Wed</td>\n",
              "      <td>False</td>\n",
              "      <td>19:31:00</td>\n",
              "      <td>20:19:00</td>\n",
              "      <td>...</td>\n",
              "      <td>False</td>\n",
              "      <td>2025-06-08</td>\n",
              "      <td>14</td>\n",
              "      <td>1</td>\n",
              "      <td>1</td>\n",
              "      <td>0</td>\n",
              "      <td>0</td>\n",
              "      <td>180</td>\n",
              "      <td>Mature</td>\n",
              "      <td>507</td>\n",
              "    </tr>\n",
              "    <tr>\n",
              "      <th>2</th>\n",
              "      <td>3</td>\n",
              "      <td>Male</td>\n",
              "      <td>1983-03-30</td>\n",
              "      <td>41</td>\n",
              "      <td>Premium</td>\n",
              "      <td>1</td>\n",
              "      <td>Sat</td>\n",
              "      <td>True</td>\n",
              "      <td>08:29:00</td>\n",
              "      <td>10:32:00</td>\n",
              "      <td>...</td>\n",
              "      <td>False</td>\n",
              "      <td>2025-04-12</td>\n",
              "      <td>71</td>\n",
              "      <td>2</td>\n",
              "      <td>1</td>\n",
              "      <td>1</td>\n",
              "      <td>0</td>\n",
              "      <td>280</td>\n",
              "      <td>Mature</td>\n",
              "      <td>493</td>\n",
              "    </tr>\n",
              "    <tr>\n",
              "      <th>3</th>\n",
              "      <td>4</td>\n",
              "      <td>Male</td>\n",
              "      <td>1980-04-12</td>\n",
              "      <td>44</td>\n",
              "      <td>Premium</td>\n",
              "      <td>3</td>\n",
              "      <td>Sat, Tue, Wed</td>\n",
              "      <td>False</td>\n",
              "      <td>09:54:00</td>\n",
              "      <td>11:33:00</td>\n",
              "      <td>...</td>\n",
              "      <td>True</td>\n",
              "      <td>2025-04-23</td>\n",
              "      <td>60</td>\n",
              "      <td>2</td>\n",
              "      <td>1</td>\n",
              "      <td>1</td>\n",
              "      <td>1</td>\n",
              "      <td>310</td>\n",
              "      <td>Mature</td>\n",
              "      <td>493</td>\n",
              "    </tr>\n",
              "    <tr>\n",
              "      <th>4</th>\n",
              "      <td>5</td>\n",
              "      <td>Male</td>\n",
              "      <td>1980-09-10</td>\n",
              "      <td>44</td>\n",
              "      <td>Standard</td>\n",
              "      <td>2</td>\n",
              "      <td>Thu, Wed</td>\n",
              "      <td>True</td>\n",
              "      <td>08:29:00</td>\n",
              "      <td>09:19:00</td>\n",
              "      <td>...</td>\n",
              "      <td>False</td>\n",
              "      <td>2025-06-02</td>\n",
              "      <td>20</td>\n",
              "      <td>1</td>\n",
              "      <td>1</td>\n",
              "      <td>0</td>\n",
              "      <td>0</td>\n",
              "      <td>170</td>\n",
              "      <td>Mature</td>\n",
              "      <td>507</td>\n",
              "    </tr>\n",
              "  </tbody>\n",
              "</table>\n",
              "<p>5 rows × 23 columns</p>\n",
              "</div>\n",
              "    <div class=\"colab-df-buttons\">\n",
              "\n",
              "  <div class=\"colab-df-container\">\n",
              "    <button class=\"colab-df-convert\" onclick=\"convertToInteractive('df-fce47c28-18da-4cbc-8845-92af1d848942')\"\n",
              "            title=\"Convert this dataframe to an interactive table.\"\n",
              "            style=\"display:none;\">\n",
              "\n",
              "  <svg xmlns=\"http://www.w3.org/2000/svg\" height=\"24px\" viewBox=\"0 -960 960 960\">\n",
              "    <path d=\"M120-120v-720h720v720H120Zm60-500h600v-160H180v160Zm220 220h160v-160H400v160Zm0 220h160v-160H400v160ZM180-400h160v-160H180v160Zm440 0h160v-160H620v160ZM180-180h160v-160H180v160Zm440 0h160v-160H620v160Z\"/>\n",
              "  </svg>\n",
              "    </button>\n",
              "\n",
              "  <style>\n",
              "    .colab-df-container {\n",
              "      display:flex;\n",
              "      gap: 12px;\n",
              "    }\n",
              "\n",
              "    .colab-df-convert {\n",
              "      background-color: #E8F0FE;\n",
              "      border: none;\n",
              "      border-radius: 50%;\n",
              "      cursor: pointer;\n",
              "      display: none;\n",
              "      fill: #1967D2;\n",
              "      height: 32px;\n",
              "      padding: 0 0 0 0;\n",
              "      width: 32px;\n",
              "    }\n",
              "\n",
              "    .colab-df-convert:hover {\n",
              "      background-color: #E2EBFA;\n",
              "      box-shadow: 0px 1px 2px rgba(60, 64, 67, 0.3), 0px 1px 3px 1px rgba(60, 64, 67, 0.15);\n",
              "      fill: #174EA6;\n",
              "    }\n",
              "\n",
              "    .colab-df-buttons div {\n",
              "      margin-bottom: 4px;\n",
              "    }\n",
              "\n",
              "    [theme=dark] .colab-df-convert {\n",
              "      background-color: #3B4455;\n",
              "      fill: #D2E3FC;\n",
              "    }\n",
              "\n",
              "    [theme=dark] .colab-df-convert:hover {\n",
              "      background-color: #434B5C;\n",
              "      box-shadow: 0px 1px 3px 1px rgba(0, 0, 0, 0.15);\n",
              "      filter: drop-shadow(0px 1px 2px rgba(0, 0, 0, 0.3));\n",
              "      fill: #FFFFFF;\n",
              "    }\n",
              "  </style>\n",
              "\n",
              "    <script>\n",
              "      const buttonEl =\n",
              "        document.querySelector('#df-fce47c28-18da-4cbc-8845-92af1d848942 button.colab-df-convert');\n",
              "      buttonEl.style.display =\n",
              "        google.colab.kernel.accessAllowed ? 'block' : 'none';\n",
              "\n",
              "      async function convertToInteractive(key) {\n",
              "        const element = document.querySelector('#df-fce47c28-18da-4cbc-8845-92af1d848942');\n",
              "        const dataTable =\n",
              "          await google.colab.kernel.invokeFunction('convertToInteractive',\n",
              "                                                    [key], {});\n",
              "        if (!dataTable) return;\n",
              "\n",
              "        const docLinkHtml = 'Like what you see? Visit the ' +\n",
              "          '<a target=\"_blank\" href=https://colab.research.google.com/notebooks/data_table.ipynb>data table notebook</a>'\n",
              "          + ' to learn more about interactive tables.';\n",
              "        element.innerHTML = '';\n",
              "        dataTable['output_type'] = 'display_data';\n",
              "        await google.colab.output.renderOutput(dataTable, element);\n",
              "        const docLink = document.createElement('div');\n",
              "        docLink.innerHTML = docLinkHtml;\n",
              "        element.appendChild(docLink);\n",
              "      }\n",
              "    </script>\n",
              "  </div>\n",
              "\n",
              "\n",
              "    <div id=\"df-ecd6ec36-9dfc-4219-b7e5-dd9db1b1d10a\">\n",
              "      <button class=\"colab-df-quickchart\" onclick=\"quickchart('df-ecd6ec36-9dfc-4219-b7e5-dd9db1b1d10a')\"\n",
              "                title=\"Suggest charts\"\n",
              "                style=\"display:none;\">\n",
              "\n",
              "<svg xmlns=\"http://www.w3.org/2000/svg\" height=\"24px\"viewBox=\"0 0 24 24\"\n",
              "     width=\"24px\">\n",
              "    <g>\n",
              "        <path d=\"M19 3H5c-1.1 0-2 .9-2 2v14c0 1.1.9 2 2 2h14c1.1 0 2-.9 2-2V5c0-1.1-.9-2-2-2zM9 17H7v-7h2v7zm4 0h-2V7h2v10zm4 0h-2v-4h2v4z\"/>\n",
              "    </g>\n",
              "</svg>\n",
              "      </button>\n",
              "\n",
              "<style>\n",
              "  .colab-df-quickchart {\n",
              "      --bg-color: #E8F0FE;\n",
              "      --fill-color: #1967D2;\n",
              "      --hover-bg-color: #E2EBFA;\n",
              "      --hover-fill-color: #174EA6;\n",
              "      --disabled-fill-color: #AAA;\n",
              "      --disabled-bg-color: #DDD;\n",
              "  }\n",
              "\n",
              "  [theme=dark] .colab-df-quickchart {\n",
              "      --bg-color: #3B4455;\n",
              "      --fill-color: #D2E3FC;\n",
              "      --hover-bg-color: #434B5C;\n",
              "      --hover-fill-color: #FFFFFF;\n",
              "      --disabled-bg-color: #3B4455;\n",
              "      --disabled-fill-color: #666;\n",
              "  }\n",
              "\n",
              "  .colab-df-quickchart {\n",
              "    background-color: var(--bg-color);\n",
              "    border: none;\n",
              "    border-radius: 50%;\n",
              "    cursor: pointer;\n",
              "    display: none;\n",
              "    fill: var(--fill-color);\n",
              "    height: 32px;\n",
              "    padding: 0;\n",
              "    width: 32px;\n",
              "  }\n",
              "\n",
              "  .colab-df-quickchart:hover {\n",
              "    background-color: var(--hover-bg-color);\n",
              "    box-shadow: 0 1px 2px rgba(60, 64, 67, 0.3), 0 1px 3px 1px rgba(60, 64, 67, 0.15);\n",
              "    fill: var(--button-hover-fill-color);\n",
              "  }\n",
              "\n",
              "  .colab-df-quickchart-complete:disabled,\n",
              "  .colab-df-quickchart-complete:disabled:hover {\n",
              "    background-color: var(--disabled-bg-color);\n",
              "    fill: var(--disabled-fill-color);\n",
              "    box-shadow: none;\n",
              "  }\n",
              "\n",
              "  .colab-df-spinner {\n",
              "    border: 2px solid var(--fill-color);\n",
              "    border-color: transparent;\n",
              "    border-bottom-color: var(--fill-color);\n",
              "    animation:\n",
              "      spin 1s steps(1) infinite;\n",
              "  }\n",
              "\n",
              "  @keyframes spin {\n",
              "    0% {\n",
              "      border-color: transparent;\n",
              "      border-bottom-color: var(--fill-color);\n",
              "      border-left-color: var(--fill-color);\n",
              "    }\n",
              "    20% {\n",
              "      border-color: transparent;\n",
              "      border-left-color: var(--fill-color);\n",
              "      border-top-color: var(--fill-color);\n",
              "    }\n",
              "    30% {\n",
              "      border-color: transparent;\n",
              "      border-left-color: var(--fill-color);\n",
              "      border-top-color: var(--fill-color);\n",
              "      border-right-color: var(--fill-color);\n",
              "    }\n",
              "    40% {\n",
              "      border-color: transparent;\n",
              "      border-right-color: var(--fill-color);\n",
              "      border-top-color: var(--fill-color);\n",
              "    }\n",
              "    60% {\n",
              "      border-color: transparent;\n",
              "      border-right-color: var(--fill-color);\n",
              "    }\n",
              "    80% {\n",
              "      border-color: transparent;\n",
              "      border-right-color: var(--fill-color);\n",
              "      border-bottom-color: var(--fill-color);\n",
              "    }\n",
              "    90% {\n",
              "      border-color: transparent;\n",
              "      border-bottom-color: var(--fill-color);\n",
              "    }\n",
              "  }\n",
              "</style>\n",
              "\n",
              "      <script>\n",
              "        async function quickchart(key) {\n",
              "          const quickchartButtonEl =\n",
              "            document.querySelector('#' + key + ' button');\n",
              "          quickchartButtonEl.disabled = true;  // To prevent multiple clicks.\n",
              "          quickchartButtonEl.classList.add('colab-df-spinner');\n",
              "          try {\n",
              "            const charts = await google.colab.kernel.invokeFunction(\n",
              "                'suggestCharts', [key], {});\n",
              "          } catch (error) {\n",
              "            console.error('Error during call to suggestCharts:', error);\n",
              "          }\n",
              "          quickchartButtonEl.classList.remove('colab-df-spinner');\n",
              "          quickchartButtonEl.classList.add('colab-df-quickchart-complete');\n",
              "        }\n",
              "        (() => {\n",
              "          let quickchartButtonEl =\n",
              "            document.querySelector('#df-ecd6ec36-9dfc-4219-b7e5-dd9db1b1d10a button');\n",
              "          quickchartButtonEl.style.display =\n",
              "            google.colab.kernel.accessAllowed ? 'block' : 'none';\n",
              "        })();\n",
              "      </script>\n",
              "    </div>\n",
              "\n",
              "    </div>\n",
              "  </div>\n"
            ],
            "application/vnd.google.colaboratory.intrinsic+json": {
              "type": "dataframe",
              "variable_name": "df"
            }
          },
          "metadata": {},
          "execution_count": 3
        }
      ]
    },
    {
      "cell_type": "markdown",
      "source": [
        "#Feature Engineering"
      ],
      "metadata": {
        "id": "rJqWNxouR32N"
      }
    },
    {
      "cell_type": "code",
      "source": [
        "# Copy dataframe agar aman\n",
        "df_feat = df.copy()"
      ],
      "metadata": {
        "id": "NiFp59Ncl5IH"
      },
      "execution_count": null,
      "outputs": []
    },
    {
      "cell_type": "markdown",
      "source": [
        "##Demographics"
      ],
      "metadata": {
        "id": "jf4YPqjXSNSm"
      }
    },
    {
      "cell_type": "code",
      "source": [
        "# Gender encoding\n",
        "df_feat[\"gender_encoded\"] = df_feat[\"gender\"].map({\"Male\": 1, \"Female\": 0})\n",
        "\n",
        "# Tahun lahir\n",
        "df_feat[\"birth_year\"] = pd.to_datetime(df_feat[\"birthday\"]).dt.year"
      ],
      "metadata": {
        "id": "xQY-xTRhSRGn"
      },
      "execution_count": null,
      "outputs": []
    },
    {
      "cell_type": "markdown",
      "source": [
        "##Gym Behavior"
      ],
      "metadata": {
        "id": "mMAXzEaPSTa-"
      }
    },
    {
      "cell_type": "code",
      "source": [
        "# Jumlah hari aktif per minggu\n",
        "df_feat[\"active_days_count\"] = df_feat[\"days_per_week\"].apply(lambda x: len(x.split(\",\")))\n",
        "\n",
        "# Konsistensi kunjungan (kunjungan per hari aktif)\n",
        "df_feat[\"visit_consistency\"] = df_feat[\"visit_per_week\"] / df_feat[\"active_days_count\"]\n",
        "\n",
        "# Kategorisasi jam check-in (morning <12, afternoon 12-18, evening >18)\n",
        "df_feat[\"checkin_period\"] = pd.to_datetime(df_feat[\"avg_time_check_in\"], format=\"%H:%M:%S\").dt.hour\n",
        "df_feat[\"checkin_period\"] = pd.cut(\n",
        "    df_feat[\"checkin_period\"],\n",
        "    bins=[0,12,18,24],\n",
        "    labels=[\"Morning\",\"Afternoon\",\"Evening\"],\n",
        "    right=False\n",
        ")"
      ],
      "metadata": {
        "id": "cWcEBICTYESZ"
      },
      "execution_count": null,
      "outputs": []
    },
    {
      "cell_type": "code",
      "source": [
        "# =============================\n",
        "# FEATURE ENGINEERING\n",
        "# =============================\n",
        "\n",
        "import numpy as np\n",
        "\n",
        "# 1. Churn Flag (target variable)\n",
        "# Anggota dianggap churn jika recency >= 60 hari\n",
        "df[\"churn_flag\"] = df[\"recency\"].apply(lambda x: 1 if x >= 60 else 0)\n",
        "\n",
        "# 2. Loyalty Score (gabungan frekuensi kunjungan & recency)\n",
        "df[\"loyalty_score\"] = df[\"visit_per_week\"] * (1 / (df[\"recency\"] + 1))\n",
        "\n",
        "# 3. Average Spend per Visit\n",
        "df[\"avg_spend_per_visit\"] = df[\"monetary\"] / (df[\"visit_per_week\"] * 4 + 1)\n",
        "\n",
        "# 4. Active Flag (masih aktif jika recency < 30 hari)\n",
        "df[\"active_flag\"] = df[\"recency\"].apply(lambda x: 1 if x < 30 else 0)\n",
        "\n",
        "# 5. Engagement Level (kategori berdasarkan frekuensi kunjungan per minggu)\n",
        "def engagement(x):\n",
        "    if x >= 4:\n",
        "        return \"High\"\n",
        "    elif x >= 2:\n",
        "        return \"Medium\"\n",
        "    else:\n",
        "        return \"Low\"\n",
        "\n",
        "df[\"engagement_level\"] = df[\"visit_per_week\"].apply(engagement)\n",
        "\n",
        "# 6. Customer Lifetime Value (CLV Estimate)\n",
        "df[\"clv_estimate\"] = df[\"monetary\"] * df[\"visit_per_week\"]\n",
        "\n",
        "# 7. Extra Services (jumlah layanan tambahan yang digunakan)\n",
        "df[\"extra_services\"] = df[[\"drink_abo_val\", \"personal_training_val\", \"sauna_val\"]].sum(axis=1)\n",
        "\n",
        "# =============================\n",
        "# CEK HASIL\n",
        "# =============================\n",
        "print(df[[\n",
        "    \"id\", \"recency\", \"visit_per_week\", \"monetary\",\n",
        "    \"churn_flag\", \"loyalty_score\", \"avg_spend_per_visit\",\n",
        "    \"active_flag\", \"engagement_level\", \"clv_estimate\", \"extra_services\"\n",
        "]].head())"
      ],
      "metadata": {
        "id": "GvJSNdkRSV-F",
        "colab": {
          "base_uri": "https://localhost:8080/"
        },
        "outputId": "d0612157-7fec-4005-8c74-24b9e7407abe"
      },
      "execution_count": null,
      "outputs": [
        {
          "output_type": "stream",
          "name": "stdout",
          "text": [
            "   id   recency  visit_per_week  monetary  churn_flag  loyalty_score  \\\n",
            "0   1  0.293301        1.061773  0.554427           0       0.820979   \n",
            "1   2 -1.110781        0.256179 -0.617016           0      -2.312479   \n",
            "2   3  1.052265       -1.355009  1.056474           0      -0.660250   \n",
            "3   4  0.634835        0.256179  1.558521           0       0.156700   \n",
            "4   5 -0.883092       -0.549415 -0.784365           0      -4.699550   \n",
            "\n",
            "   avg_spend_per_visit  active_flag engagement_level  clv_estimate  \\\n",
            "0             0.105664            1              Low      0.588676   \n",
            "1            -0.304742            1              Low     -0.158066   \n",
            "2            -0.239019            1              Low     -1.431532   \n",
            "3             0.769748            1              Low      0.399260   \n",
            "4             0.654914            1              Low      0.430942   \n",
            "\n",
            "   extra_services  \n",
            "0               1  \n",
            "1               1  \n",
            "2               2  \n",
            "3               3  \n",
            "4               1  \n"
          ]
        }
      ]
    },
    {
      "cell_type": "markdown",
      "source": [
        "##Additional Services"
      ],
      "metadata": {
        "id": "VIMhZ5l-SZdr"
      }
    },
    {
      "cell_type": "code",
      "source": [
        "# Total fasilitas tambahan\n",
        "df_feat[\"extra_services_count\"] = df_feat[[\"attend_group_lesson\",\"drink_abo\",\"personal_training\",\"uses_sauna\"]].sum(axis=1)\n",
        "\n",
        "# Fasilitas premium score\n",
        "df_feat[\"premium_score\"] = df_feat[\"personal_training_val\"] + df_feat[\"drink_abo_val\"] + df_feat[\"sauna_val\"]"
      ],
      "metadata": {
        "id": "MmqVU2e0Sbni"
      },
      "execution_count": null,
      "outputs": []
    },
    {
      "cell_type": "markdown",
      "source": [
        "##Loyalty and Retention"
      ],
      "metadata": {
        "id": "SYqxuqrgSfeQ"
      }
    },
    {
      "cell_type": "code",
      "source": [
        "# Recency bucket\n",
        "df_feat[\"recency_bucket\"] = pd.cut(\n",
        "    df_feat[\"recency\"],\n",
        "    bins=[-1,30,60,999],\n",
        "    labels=[\"Active\",\"At Risk\",\"Churn\"]\n",
        ")\n",
        "\n",
        "# Monetary per visit (dibagi total kunjungan mingguan * jumlah member)\n",
        "df_feat[\"monetary_per_visit\"] = df_feat[\"monetary\"] / (df_feat[\"visit_per_week\"] * df_feat[\"number_of_members\"])\n",
        "df_feat[\"monetary_per_visit\"].replace([np.inf, -np.inf], np.nan, inplace=True)\n",
        "\n",
        "# Value/Cost ratio\n",
        "df_feat[\"value_cost_ratio\"] = df_feat[\"monetary\"] / (df_feat[\"abonoment_value\"] + 1)  # +1 biar ga div 0"
      ],
      "metadata": {
        "id": "7E0jqwHiSigd",
        "colab": {
          "base_uri": "https://localhost:8080/"
        },
        "outputId": "18da1413-f179-4ea6-e0f7-d415f6ab56c6"
      },
      "execution_count": null,
      "outputs": [
        {
          "output_type": "stream",
          "name": "stderr",
          "text": [
            "/tmp/ipython-input-2964394601.py:10: FutureWarning: A value is trying to be set on a copy of a DataFrame or Series through chained assignment using an inplace method.\n",
            "The behavior will change in pandas 3.0. This inplace method will never work because the intermediate object on which we are setting values always behaves as a copy.\n",
            "\n",
            "For example, when doing 'df[col].method(value, inplace=True)', try using 'df.method({col: value}, inplace=True)' or df[col] = df[col].method(value) instead, to perform the operation inplace on the original object.\n",
            "\n",
            "\n",
            "  df_feat[\"monetary_per_visit\"].replace([np.inf, -np.inf], np.nan, inplace=True)\n"
          ]
        }
      ]
    },
    {
      "cell_type": "markdown",
      "source": [
        "##Output"
      ],
      "metadata": {
        "id": "cuOwUQehmWNx"
      }
    },
    {
      "cell_type": "code",
      "source": [
        "print(df_feat.head(10))"
      ],
      "metadata": {
        "colab": {
          "base_uri": "https://localhost:8080/"
        },
        "id": "ymLcNVlsmYbq",
        "outputId": "e9181f45-b30f-4bf8-c53d-47d5c1b76a8c"
      },
      "execution_count": null,
      "outputs": [
        {
          "output_type": "stream",
          "name": "stdout",
          "text": [
            "   id  gender    birthday  age abonoment_type  visit_per_week  \\\n",
            "0   1  Female  1997-04-18   27        Premium               4   \n",
            "1   2  Female  1977-09-18   47       Standard               3   \n",
            "2   3    Male  1983-03-30   41        Premium               1   \n",
            "3   4    Male  1980-04-12   44        Premium               3   \n",
            "4   5    Male  1980-09-10   44       Standard               2   \n",
            "5   6  Female  2009-06-29   15       Standard               1   \n",
            "6   7    Male  1994-08-07   30        Premium               3   \n",
            "7   8    Male  2003-11-13   20       Standard               2   \n",
            "8   9    Male  1978-07-28   46        Premium               3   \n",
            "9  10  Female  2000-05-06   24        Premium               1   \n",
            "\n",
            "        days_per_week  attend_group_lesson avg_time_check_in  \\\n",
            "0  Mon, Sat, Tue, Wed                 True          19:31:00   \n",
            "1       Mon, Sat, Wed                False          19:31:00   \n",
            "2                 Sat                 True          08:29:00   \n",
            "3       Sat, Tue, Wed                False          09:54:00   \n",
            "4            Thu, Wed                 True          08:29:00   \n",
            "5                 Mon                False          17:19:00   \n",
            "6       Sat, Thu, Wed                 True          19:46:00   \n",
            "7            Mon, Wed                 True          17:45:00   \n",
            "8       Sat, Sun, Thu                 True          09:45:00   \n",
            "9                 Mon                False          13:05:00   \n",
            "\n",
            "  avg_time_check_out  ...  gender_encoded  birth_year  active_days_count  \\\n",
            "0           21:27:00  ...               0        1997                  4   \n",
            "1           20:19:00  ...               0        1977                  3   \n",
            "2           10:32:00  ...               1        1983                  1   \n",
            "3           11:33:00  ...               1        1980                  3   \n",
            "4           09:19:00  ...               1        1980                  2   \n",
            "5           20:19:00  ...               0        2009                  1   \n",
            "6           20:48:00  ...               1        1994                  3   \n",
            "7           19:20:00  ...               1        2003                  2   \n",
            "8           11:17:00  ...               1        1978                  3   \n",
            "9           15:29:00  ...               0        2000                  1   \n",
            "\n",
            "   visit_consistency checkin_period  extra_services_count  premium_score  \\\n",
            "0                1.0        Evening                     2              1   \n",
            "1                1.0        Evening                     1              1   \n",
            "2                1.0        Morning                     3              2   \n",
            "3                1.0        Morning                     3              3   \n",
            "4                1.0        Morning                     2              1   \n",
            "5                1.0      Afternoon                     1              1   \n",
            "6                1.0        Evening                     1              0   \n",
            "7                1.0      Afternoon                     3              2   \n",
            "8                1.0        Morning                     3              2   \n",
            "9                1.0      Afternoon                     2              2   \n",
            "\n",
            "   recency_bucket  monetary_per_visit  value_cost_ratio  \n",
            "0         At Risk            0.126775         83.333333  \n",
            "1          Active            0.118343         90.000000  \n",
            "2           Churn            0.567951         93.333333  \n",
            "3         At Risk            0.209601        103.333333  \n",
            "4          Active            0.167653         85.000000  \n",
            "5           Churn            0.236686         60.000000  \n",
            "6           Churn            0.155510         76.666667  \n",
            "7           Churn            0.147929         75.000000  \n",
            "8           Churn            0.202840        100.000000  \n",
            "9           Churn            0.547667         90.000000  \n",
            "\n",
            "[10 rows x 33 columns]\n"
          ]
        }
      ]
    },
    {
      "cell_type": "markdown",
      "source": [
        "#EDA FE"
      ],
      "metadata": {
        "id": "VqH0pTRpm7d_"
      }
    },
    {
      "cell_type": "markdown",
      "source": [
        "##Recency Bucket"
      ],
      "metadata": {
        "id": "qTM0APLCnDPb"
      }
    },
    {
      "cell_type": "code",
      "source": [
        "# --- Distribusi Recency Bucket ---\n",
        "plt.figure(figsize=(6,4))\n",
        "df_feat[\"recency_bucket\"].value_counts().plot(kind=\"bar\")\n",
        "plt.title(\"Distribusi Recency Bucket\")\n",
        "plt.xlabel(\"Kategori\")\n",
        "plt.ylabel(\"Jumlah Anggota\")\n",
        "plt.show()"
      ],
      "metadata": {
        "colab": {
          "base_uri": "https://localhost:8080/",
          "height": 444
        },
        "id": "pD7LQCcAm9S1",
        "outputId": "aedd01a5-9017-46b1-b84c-a43b2a6c5839"
      },
      "execution_count": null,
      "outputs": [
        {
          "output_type": "display_data",
          "data": {
            "text/plain": [
              "<Figure size 600x400 with 1 Axes>"
            ],
            "image/png": "[encoded data removed]"
          },
          "metadata": {}
        }
      ]
    },
    {
      "cell_type": "markdown",
      "source": [
        "##Check-in Period"
      ],
      "metadata": {
        "id": "BQ6EE-vOnNpv"
      }
    },
    {
      "cell_type": "code",
      "source": [
        "# --- Distribusi Check-in Period ---\n",
        "plt.figure(figsize=(6,4))\n",
        "df_feat[\"checkin_period\"].value_counts().plot(kind=\"bar\")\n",
        "plt.title(\"Distribusi Waktu Check-in\")\n",
        "plt.xlabel(\"Periode\")\n",
        "plt.ylabel(\"Jumlah Anggota\")\n",
        "plt.show()"
      ],
      "metadata": {
        "colab": {
          "base_uri": "https://localhost:8080/",
          "height": 464
        },
        "id": "TxaujJeonQzz",
        "outputId": "39189574-0c09-413f-fc0c-3cc0b24e128c"
      },
      "execution_count": null,
      "outputs": [
        {
          "output_type": "display_data",
          "data": {
            "text/plain": [
              "<Figure size 600x400 with 1 Axes>"
            ],
            "image/png": "[encoded data removed]"
          },
          "metadata": {}
        }
      ]
    },
    {
      "cell_type": "markdown",
      "source": [
        "##Extra Services Count"
      ],
      "metadata": {
        "id": "5G0DVZj2nTJh"
      }
    },
    {
      "cell_type": "code",
      "source": [
        "# --- Extra Services Count ---\n",
        "plt.figure(figsize=(6,4))\n",
        "df_feat[\"extra_services_count\"].value_counts().sort_index().plot(kind=\"bar\")\n",
        "plt.title(\"Jumlah Layanan Tambahan yang Digunakan\")\n",
        "plt.xlabel(\"Jumlah Layanan\")\n",
        "plt.ylabel(\"Jumlah Anggota\")\n",
        "plt.show()"
      ],
      "metadata": {
        "colab": {
          "base_uri": "https://localhost:8080/",
          "height": 405
        },
        "id": "ZXDu0sv_nXVy",
        "outputId": "6d3103cf-a48d-4a51-f1df-c00736ac8955"
      },
      "execution_count": null,
      "outputs": [
        {
          "output_type": "display_data",
          "data": {
            "text/plain": [
              "<Figure size 600x400 with 1 Axes>"
            ],
            "image/png": "[encoded data removed]"
          },
          "metadata": {}
        }
      ]
    },
    {
      "cell_type": "markdown",
      "source": [
        "##Premium Score"
      ],
      "metadata": {
        "id": "pHST9f5NnfH3"
      }
    },
    {
      "cell_type": "code",
      "source": [
        "# --- Premium Score ---\n",
        "plt.figure(figsize=(6,4))\n",
        "df_feat[\"premium_score\"].hist(bins=10)\n",
        "plt.title(\"Distribusi Premium Score\")\n",
        "plt.xlabel(\"Premium Score\")\n",
        "plt.ylabel(\"Frekuensi\")\n",
        "plt.show()"
      ],
      "metadata": {
        "colab": {
          "base_uri": "https://localhost:8080/",
          "height": 410
        },
        "id": "m4Hgv9J0nfUc",
        "outputId": "4db3d69e-8964-43bf-b58f-56e53396d2ff"
      },
      "execution_count": null,
      "outputs": [
        {
          "output_type": "display_data",
          "data": {
            "text/plain": [
              "<Figure size 600x400 with 1 Axes>"
            ],
            "image/png": "[encoded data removed]"
          },
          "metadata": {}
        }
      ]
    },
    {
      "cell_type": "markdown",
      "source": [
        "##Monetary"
      ],
      "metadata": {
        "id": "KUDa7W6unihI"
      }
    },
    {
      "cell_type": "code",
      "source": [
        "# --- Monetary per Visit ---\n",
        "plt.figure(figsize=(6,4))\n",
        "df_feat[\"monetary_per_visit\"].hist(bins=20)\n",
        "plt.title(\"Distribusi Monetary per Visit\")\n",
        "plt.xlabel(\"Monetary per Visit\")\n",
        "plt.ylabel(\"Frekuensi\")\n",
        "plt.show()"
      ],
      "metadata": {
        "colab": {
          "base_uri": "https://localhost:8080/",
          "height": 410
        },
        "id": "4xbKi5Mbniru",
        "outputId": "71b8f36b-da2a-4b9a-ae96-87a0da1f17b6"
      },
      "execution_count": null,
      "outputs": [
        {
          "output_type": "display_data",
          "data": {
            "text/plain": [
              "<Figure size 600x400 with 1 Axes>"
            ],
            "image/png": "[encoded data removed]"
          },
          "metadata": {}
        }
      ]
    },
    {
      "cell_type": "markdown",
      "source": [
        "##Value Cost Ratio"
      ],
      "metadata": {
        "id": "U1SIFlLfnmLC"
      }
    },
    {
      "cell_type": "code",
      "source": [
        "# --- Value Cost Ratio ---\n",
        "plt.figure(figsize=(6,4))\n",
        "df_feat[\"value_cost_ratio\"].hist(bins=20)\n",
        "plt.title(\"Distribusi Value-Cost Ratio\")\n",
        "plt.xlabel(\"Value/Cost Ratio\")\n",
        "plt.ylabel(\"Frekuensi\")\n",
        "plt.show()"
      ],
      "metadata": {
        "colab": {
          "base_uri": "https://localhost:8080/",
          "height": 410
        },
        "id": "BQr72xRinmWo",
        "outputId": "610ba007-2039-4c8e-c884-6c52bbe31376"
      },
      "execution_count": null,
      "outputs": [
        {
          "output_type": "display_data",
          "data": {
            "text/plain": [
              "<Figure size 600x400 with 1 Axes>"
            ],
            "image/png": "[encoded data removed]"
          },
          "metadata": {}
        }
      ]
    },
    {
      "cell_type": "markdown",
      "source": [
        "#Machine Learning"
      ],
      "metadata": {
        "id": "as9jCutwn0_0"
      }
    },
    {
      "cell_type": "code",
      "source": [
        "# Tambahkan target churn (1 jika recency > 60 hari, else 0)\n",
        "df_feat[\"churn\"] = df_feat[\"recency\"].apply(lambda x: 1 if x > 60 else 0)"
      ],
      "metadata": {
        "id": "Av7lwMdNpITE"
      },
      "execution_count": null,
      "outputs": []
    },
    {
      "cell_type": "markdown",
      "source": [
        "##Select features"
      ],
      "metadata": {
        "id": "bD7wrAoFn5oi"
      }
    },
    {
      "cell_type": "code",
      "source": [
        "features = [\n",
        "    \"age\",\"gender_encoded\",\"visit_per_week\",\"active_days_count\",\n",
        "    \"visit_consistency\",\"avg_time_in_gym\",\"abonoment_value\",\n",
        "    \"premium_score\",\"monetary\"\n",
        "]\n",
        "X = df_feat[features]\n",
        "y = df_feat[\"churn\"]\n",
        "print(X.head())"
      ],
      "metadata": {
        "id": "3N4_0GBUpQeM",
        "colab": {
          "base_uri": "https://localhost:8080/"
        },
        "outputId": "ef7b5e5b-a760-434f-b23e-f6b11aee476a"
      },
      "execution_count": null,
      "outputs": [
        {
          "output_type": "stream",
          "name": "stdout",
          "text": [
            "   age  gender_encoded  visit_per_week  active_days_count  visit_consistency  \\\n",
            "0   27               0               4                  4                1.0   \n",
            "1   47               0               3                  3                1.0   \n",
            "2   41               1               1                  1                1.0   \n",
            "3   44               1               3                  3                1.0   \n",
            "4   44               1               2                  2                1.0   \n",
            "\n",
            "   avg_time_in_gym  abonoment_value  premium_score  monetary  \n",
            "0              116                2              1       250  \n",
            "1               48                1              1       180  \n",
            "2              123                2              2       280  \n",
            "3               99                2              3       310  \n",
            "4               50                1              1       170  \n"
          ]
        }
      ]
    },
    {
      "cell_type": "markdown",
      "source": [
        "##Train-Test Split"
      ],
      "metadata": {
        "id": "ysABbtZZpVBc"
      }
    },
    {
      "cell_type": "code",
      "source": [
        "X_train, X_test, y_train, y_test = train_test_split(\n",
        "    X, y, test_size=0.2, random_state=42, stratify=y\n",
        ")\n",
        "print(\"Jumlah data training:\", X_train.shape[0])\n",
        "print(\"Jumlah data testing :\", X_test.shape[0])\n",
        "print(\"Total data          :\", X.shape[0])"
      ],
      "metadata": {
        "id": "Kud3T7OcpVnz",
        "colab": {
          "base_uri": "https://localhost:8080/"
        },
        "outputId": "8a246461-cde4-4aba-9e18-22a3271961cc"
      },
      "execution_count": null,
      "outputs": [
        {
          "output_type": "stream",
          "name": "stdout",
          "text": [
            "Jumlah data training: 800\n",
            "Jumlah data testing : 200\n",
            "Total data          : 1000\n"
          ]
        }
      ]
    },
    {
      "cell_type": "markdown",
      "source": [
        "##Logistic Regression with scaling"
      ],
      "metadata": {
        "id": "PVycBU7RpbwI"
      }
    },
    {
      "cell_type": "code",
      "source": [
        "log_reg = Pipeline(steps=[\n",
        "    ('scaler', StandardScaler()),\n",
        "    ('clf', LogisticRegression(max_iter=1000))\n",
        "])\n",
        "log_reg.fit(X_train, y_train)\n",
        "y_pred_lr = log_reg.predict(X_test)\n",
        "y_prob_lr = log_reg.predict_proba(X_test)[:,1]"
      ],
      "metadata": {
        "id": "LBAbf3pPpcUU"
      },
      "execution_count": null,
      "outputs": []
    },
    {
      "cell_type": "markdown",
      "source": [
        "##Random Forest"
      ],
      "metadata": {
        "id": "gl6YkuJbpgbS"
      }
    },
    {
      "cell_type": "code",
      "source": [
        "rf = RandomForestClassifier(n_estimators=200, random_state=42)\n",
        "rf.fit(X_train, y_train)\n",
        "y_pred_rf = rf.predict(X_test)\n",
        "y_prob_rf = rf.predict_proba(X_test)[:,1]"
      ],
      "metadata": {
        "id": "TOiKUc7Rpi5U"
      },
      "execution_count": null,
      "outputs": []
    },
    {
      "cell_type": "markdown",
      "source": [
        "#Evaluation"
      ],
      "metadata": {
        "id": "8zghlrfTprCN"
      }
    },
    {
      "cell_type": "markdown",
      "source": [
        "##Logistic Regression"
      ],
      "metadata": {
        "id": "CnSsEoXrpwW5"
      }
    },
    {
      "cell_type": "code",
      "source": [
        "print(\"=== Logistic Regression ===\")\n",
        "print(\"Accuracy:\", accuracy_score(y_test, y_pred_lr))\n",
        "print(\"ROC-AUC:\", roc_auc_score(y_test, y_prob_lr))\n",
        "print(classification_report(y_test, y_pred_lr))"
      ],
      "metadata": {
        "colab": {
          "base_uri": "https://localhost:8080/"
        },
        "id": "b-HEFTqepzoj",
        "outputId": "0dec2aea-d09a-4cba-ff55-525143fc7ac8"
      },
      "execution_count": null,
      "outputs": [
        {
          "output_type": "stream",
          "name": "stdout",
          "text": [
            "=== Logistic Regression ===\n",
            "Accuracy: 0.69\n",
            "ROC-AUC: 0.4922861150070126\n",
            "              precision    recall  f1-score   support\n",
            "\n",
            "           0       0.69      1.00      0.82       138\n",
            "           1       0.00      0.00      0.00        62\n",
            "\n",
            "    accuracy                           0.69       200\n",
            "   macro avg       0.34      0.50      0.41       200\n",
            "weighted avg       0.48      0.69      0.56       200\n",
            "\n"
          ]
        },
        {
          "output_type": "stream",
          "name": "stderr",
          "text": [
            "/usr/local/lib/python3.12/dist-packages/sklearn/metrics/_classification.py:1565: UndefinedMetricWarning: Precision is ill-defined and being set to 0.0 in labels with no predicted samples. Use `zero_division` parameter to control this behavior.\n",
            "  _warn_prf(average, modifier, f\"{metric.capitalize()} is\", len(result))\n",
            "/usr/local/lib/python3.12/dist-packages/sklearn/metrics/_classification.py:1565: UndefinedMetricWarning: Precision is ill-defined and being set to 0.0 in labels with no predicted samples. Use `zero_division` parameter to control this behavior.\n",
            "  _warn_prf(average, modifier, f\"{metric.capitalize()} is\", len(result))\n",
            "/usr/local/lib/python3.12/dist-packages/sklearn/metrics/_classification.py:1565: UndefinedMetricWarning: Precision is ill-defined and being set to 0.0 in labels with no predicted samples. Use `zero_division` parameter to control this behavior.\n",
            "  _warn_prf(average, modifier, f\"{metric.capitalize()} is\", len(result))\n"
          ]
        }
      ]
    },
    {
      "cell_type": "markdown",
      "source": [
        "##Random Forest"
      ],
      "metadata": {
        "id": "a3wbjmbYp2kk"
      }
    },
    {
      "cell_type": "code",
      "source": [
        "print(\"\\n=== Random Forest ===\")\n",
        "print(\"Accuracy:\", accuracy_score(y_test, y_pred_rf))\n",
        "print(\"ROC-AUC:\", roc_auc_score(y_test, y_prob_rf))\n",
        "print(classification_report(y_test, y_pred_rf))"
      ],
      "metadata": {
        "colab": {
          "base_uri": "https://localhost:8080/"
        },
        "id": "O8gNc4rRp7XE",
        "outputId": "57c8b0a6-4eaf-4e8e-ae49-12865a00e278"
      },
      "execution_count": null,
      "outputs": [
        {
          "output_type": "stream",
          "name": "stdout",
          "text": [
            "\n",
            "=== Random Forest ===\n",
            "Accuracy: 0.635\n",
            "ROC-AUC: 0.5459911173445535\n",
            "              precision    recall  f1-score   support\n",
            "\n",
            "           0       0.70      0.83      0.76       138\n",
            "           1       0.34      0.19      0.25        62\n",
            "\n",
            "    accuracy                           0.64       200\n",
            "   macro avg       0.52      0.51      0.50       200\n",
            "weighted avg       0.59      0.64      0.60       200\n",
            "\n"
          ]
        }
      ]
    },
    {
      "cell_type": "markdown",
      "source": [
        "##Confusion Matrix (Random Forest)"
      ],
      "metadata": {
        "id": "w2j4dB4-qAW-"
      }
    },
    {
      "cell_type": "code",
      "source": [
        "cm = confusion_matrix(y_test, y_pred_rf)\n",
        "plt.figure(figsize=(5,4))\n",
        "sns.heatmap(cm, annot=True, fmt=\"d\", cmap=\"Blues\", xticklabels=[\"Non-Churn\",\"Churn\"], yticklabels=[\"Non-Churn\",\"Churn\"])\n",
        "plt.title(\"Confusion Matrix - Random Forest\")\n",
        "plt.xlabel(\"Predicted\")\n",
        "plt.ylabel(\"Actual\")\n",
        "plt.show()"
      ],
      "metadata": {
        "colab": {
          "base_uri": "https://localhost:8080/",
          "height": 410
        },
        "id": "s-scjwJ-qBkB",
        "outputId": "5abc81d5-a8fe-4222-c188-459d341b8670"
      },
      "execution_count": null,
      "outputs": [
        {
          "output_type": "display_data",
          "data": {
            "text/plain": [
              "<Figure size 500x400 with 2 Axes>"
            ],
            "image/png": "[encoded data removed]"
          },
          "metadata": {}
        }
      ]
    },
    {
      "cell_type": "markdown",
      "source": [
        "##Feature Importance (Random Forest)"
      ],
      "metadata": {
        "id": "mmRUl3MnqRpP"
      }
    },
    {
      "cell_type": "code",
      "source": [
        "feat_importances = pd.Series(rf.feature_importances_, index=features).sort_values(ascending=False)\n",
        "plt.figure(figsize=(8,5))\n",
        "sns.barplot(x=feat_importances, y=feat_importances.index)\n",
        "plt.title(\"Feature Importance - Random Forest\")\n",
        "plt.show()"
      ],
      "metadata": {
        "colab": {
          "base_uri": "https://localhost:8080/",
          "height": 487
        },
        "id": "qmL2J2vaqSRr",
        "outputId": "ccdeb7dd-8344-40f5-b8bc-a7e85d53a747"
      },
      "execution_count": null,
      "outputs": [
        {
          "output_type": "display_data",
          "data": {
            "text/plain": [
              "<Figure size 800x500 with 1 Axes>"
            ],
            "image/png": "[encoded data removed]"
          },
          "metadata": {}
        }
      ]
    },
    {
      "cell_type": "markdown",
      "source": [
        "##Missing"
      ],
      "metadata": {
        "id": "HVxnYlm4bsop"
      }
    },
    {
      "cell_type": "code",
      "source": [
        "#missing value\n",
        "df_feat.isna().sum()"
      ],
      "metadata": {
        "colab": {
          "base_uri": "https://localhost:8080/",
          "height": 1000
        },
        "id": "PhirpRAZbn91",
        "outputId": "7de12dd0-bf3d-4446-ebc9-be4628aad6d7"
      },
      "execution_count": null,
      "outputs": [
        {
          "output_type": "execute_result",
          "data": {
            "text/plain": [
              "id                       0\n",
              "gender                   0\n",
              "birthday                 0\n",
              "age                      0\n",
              "abonoment_type           0\n",
              "visit_per_week           0\n",
              "days_per_week            0\n",
              "attend_group_lesson      0\n",
              "avg_time_check_in        0\n",
              "avg_time_check_out       0\n",
              "avg_time_in_gym          0\n",
              "drink_abo                0\n",
              "personal_training        0\n",
              "uses_sauna               0\n",
              "last_visit_date          0\n",
              "recency                  0\n",
              "abonoment_value          0\n",
              "personal_training_val    0\n",
              "drink_abo_val            0\n",
              "sauna_val                0\n",
              "monetary                 0\n",
              "age_category             0\n",
              "number_of_members        0\n",
              "gender_encoded           0\n",
              "birth_year               0\n",
              "active_days_count        0\n",
              "visit_consistency        0\n",
              "checkin_period           0\n",
              "extra_services_count     0\n",
              "premium_score            0\n",
              "recency_bucket           0\n",
              "monetary_per_visit       0\n",
              "value_cost_ratio         0\n",
              "churn                    0\n",
              "dtype: int64"
            ],
            "text/html": [
              "<div>\n",
              "<style scoped>\n",
              "    .dataframe tbody tr th:only-of-type {\n",
              "        vertical-align: middle;\n",
              "    }\n",
              "\n",
              "    .dataframe tbody tr th {\n",
              "        vertical-align: top;\n",
              "    }\n",
              "\n",
              "    .dataframe thead th {\n",
              "        text-align: right;\n",
              "    }\n",
              "</style>\n",
              "<table border=\"1\" class=\"dataframe\">\n",
              "  <thead>\n",
              "    <tr style=\"text-align: right;\">\n",
              "      <th></th>\n",
              "      <th>0</th>\n",
              "    </tr>\n",
              "  </thead>\n",
              "  <tbody>\n",
              "    <tr>\n",
              "      <th>id</th>\n",
              "      <td>0</td>\n",
              "    </tr>\n",
              "    <tr>\n",
              "      <th>gender</th>\n",
              "      <td>0</td>\n",
              "    </tr>\n",
              "    <tr>\n",
              "      <th>birthday</th>\n",
              "      <td>0</td>\n",
              "    </tr>\n",
              "    <tr>\n",
              "      <th>age</th>\n",
              "      <td>0</td>\n",
              "    </tr>\n",
              "    <tr>\n",
              "      <th>abonoment_type</th>\n",
              "      <td>0</td>\n",
              "    </tr>\n",
              "    <tr>\n",
              "      <th>visit_per_week</th>\n",
              "      <td>0</td>\n",
              "    </tr>\n",
              "    <tr>\n",
              "      <th>days_per_week</th>\n",
              "      <td>0</td>\n",
              "    </tr>\n",
              "    <tr>\n",
              "      <th>attend_group_lesson</th>\n",
              "      <td>0</td>\n",
              "    </tr>\n",
              "    <tr>\n",
              "      <th>avg_time_check_in</th>\n",
              "      <td>0</td>\n",
              "    </tr>\n",
              "    <tr>\n",
              "      <th>avg_time_check_out</th>\n",
              "      <td>0</td>\n",
              "    </tr>\n",
              "    <tr>\n",
              "      <th>avg_time_in_gym</th>\n",
              "      <td>0</td>\n",
              "    </tr>\n",
              "    <tr>\n",
              "      <th>drink_abo</th>\n",
              "      <td>0</td>\n",
              "    </tr>\n",
              "    <tr>\n",
              "      <th>personal_training</th>\n",
              "      <td>0</td>\n",
              "    </tr>\n",
              "    <tr>\n",
              "      <th>uses_sauna</th>\n",
              "      <td>0</td>\n",
              "    </tr>\n",
              "    <tr>\n",
              "      <th>last_visit_date</th>\n",
              "      <td>0</td>\n",
              "    </tr>\n",
              "    <tr>\n",
              "      <th>recency</th>\n",
              "      <td>0</td>\n",
              "    </tr>\n",
              "    <tr>\n",
              "      <th>abonoment_value</th>\n",
              "      <td>0</td>\n",
              "    </tr>\n",
              "    <tr>\n",
              "      <th>personal_training_val</th>\n",
              "      <td>0</td>\n",
              "    </tr>\n",
              "    <tr>\n",
              "      <th>drink_abo_val</th>\n",
              "      <td>0</td>\n",
              "    </tr>\n",
              "    <tr>\n",
              "      <th>sauna_val</th>\n",
              "      <td>0</td>\n",
              "    </tr>\n",
              "    <tr>\n",
              "      <th>monetary</th>\n",
              "      <td>0</td>\n",
              "    </tr>\n",
              "    <tr>\n",
              "      <th>age_category</th>\n",
              "      <td>0</td>\n",
              "    </tr>\n",
              "    <tr>\n",
              "      <th>number_of_members</th>\n",
              "      <td>0</td>\n",
              "    </tr>\n",
              "    <tr>\n",
              "      <th>gender_encoded</th>\n",
              "      <td>0</td>\n",
              "    </tr>\n",
              "    <tr>\n",
              "      <th>birth_year</th>\n",
              "      <td>0</td>\n",
              "    </tr>\n",
              "    <tr>\n",
              "      <th>active_days_count</th>\n",
              "      <td>0</td>\n",
              "    </tr>\n",
              "    <tr>\n",
              "      <th>visit_consistency</th>\n",
              "      <td>0</td>\n",
              "    </tr>\n",
              "    <tr>\n",
              "      <th>checkin_period</th>\n",
              "      <td>0</td>\n",
              "    </tr>\n",
              "    <tr>\n",
              "      <th>extra_services_count</th>\n",
              "      <td>0</td>\n",
              "    </tr>\n",
              "    <tr>\n",
              "      <th>premium_score</th>\n",
              "      <td>0</td>\n",
              "    </tr>\n",
              "    <tr>\n",
              "      <th>recency_bucket</th>\n",
              "      <td>0</td>\n",
              "    </tr>\n",
              "    <tr>\n",
              "      <th>monetary_per_visit</th>\n",
              "      <td>0</td>\n",
              "    </tr>\n",
              "    <tr>\n",
              "      <th>value_cost_ratio</th>\n",
              "      <td>0</td>\n",
              "    </tr>\n",
              "    <tr>\n",
              "      <th>churn</th>\n",
              "      <td>0</td>\n",
              "    </tr>\n",
              "  </tbody>\n",
              "</table>\n",
              "</div><br><label><b>dtype:</b> int64</label>"
            ]
          },
          "metadata": {},
          "execution_count": 28
        }
      ]
    }
  ]
}